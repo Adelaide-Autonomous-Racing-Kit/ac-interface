{
 "cells": [
  {
   "cell_type": "code",
   "execution_count": 1,
   "id": "b35420aa-1324-428c-86d8-7f1ebb3ade38",
   "metadata": {},
   "outputs": [],
   "source": [
    "from typing import Tuple, List\n",
    "import pathlib\n",
    "import numpy as np\n",
    "from loguru import logger\n",
    "from PIL import Image\n",
    "from src.utils.load import load_game_state\n",
    "def load_sample_file(\n",
    "    sample_file_path_pair: Tuple[pathlib.Path, pathlib.Path]\n",
    ") -> Tuple[np.ndarray, np.ndarray]:\n",
    "    \"\"\"\n",
    "    Loads the JPEG and corresponding binary file from the specified sample file path,\n",
    "    and returns the loaded images as NumPy arrays.\n",
    "    \"\"\"\n",
    "    jpeg_file, binary_file = sample_file_path_pair\n",
    "    jpeg_image = np.array(Image.open(jpeg_file))\n",
    "    game_state = load_game_state(binary_file)\n",
    "    return jpeg_image, game_state\n",
    "\n",
    "\n",
    "def get_sample_file_paths(directory: str) -> List[Tuple[pathlib.Path, pathlib.Path]]:\n",
    "    \"\"\"\n",
    "    Finds all the JPEG and corresponding binary files in the specified directory,\n",
    "    and returns a list of tuples containing the file paths.\n",
    "    \"\"\"\n",
    "    jpeg_files = list(pathlib.Path(directory).glob(\"*.jpeg\"))\n",
    "    jpeg_files.sort(key=lambda path: int(path.stem))\n",
    "\n",
    "    sample_file_paths = []\n",
    "    for jpeg_file in jpeg_files:\n",
    "        binary_file = jpeg_file.with_suffix(\".bin\")\n",
    "        if binary_file.exists():\n",
    "            sample_file_paths.append((jpeg_file, binary_file))\n",
    "        else:\n",
    "            logger.warning(\n",
    "                f\"Could not find corresponding .bin file for {jpeg_file}. Skipping file.\"\n",
    "            )\n",
    "\n",
    "    return sample_file_paths"
   ]
  },
  {
   "cell_type": "code",
   "execution_count": 3,
   "id": "bc4a3bfe-5982-486e-a3de-f9fe9ec139d4",
   "metadata": {},
   "outputs": [],
   "source": [
    "if __name__ == \"__main__\":\n",
    "    recording_path = \"../../recordings/monza_audi_r8_lms_1\"\n",
    "    sample_file_paths = get_sample_file_paths(recording_path)\n",
    "\n",
    "    # Extract relevant data from state dictionary at each time step\n",
    "    datas = []\n",
    "\n",
    "    for sample in sample_file_paths[:100]:\n",
    "        _, state = load_sample_file(sample)\n",
    "        datas.append(state)"
   ]
  },
  {
   "cell_type": "code",
   "execution_count": 19,
   "id": "8f45d006-ff5e-4848-a18b-d07efb495193",
   "metadata": {},
   "outputs": [],
   "source": [
    "import numpy as np\n",
    "\n",
    "# Define a function to cast numpy types to Python types\n",
    "def cast_numpy_types(obj):\n",
    "    if isinstance(obj, np.int32):\n",
    "        return int(obj)\n",
    "    elif isinstance(obj, np.float32):\n",
    "        return float(obj)\n",
    "    else:\n",
    "        return obj\n",
    "\n",
    "# Convert numpy types to Python types in the list of dictionaries\n",
    "converted_datas = [{k: cast_numpy_types(v) for k, v in state.items()} for state in datas]"
   ]
  },
  {
   "cell_type": "code",
   "execution_count": 23,
   "id": "93c542cd-6b0f-4cc2-a21f-39a9dfeff2bc",
   "metadata": {},
   "outputs": [],
   "source": [
    "import json\n",
    "import io\n",
    "with io.open('data.json', 'w', encoding='utf-8') as f:\n",
    "    f.write(json.dumps(converted_datas, ensure_ascii=True))"
   ]
  }
 ],
 "metadata": {
  "kernelspec": {
   "display_name": "Python 3 (ipykernel)",
   "language": "python",
   "name": "python3"
  },
  "language_info": {
   "codemirror_mode": {
    "name": "ipython",
    "version": 3
   },
   "file_extension": ".py",
   "mimetype": "text/x-python",
   "name": "python",
   "nbconvert_exporter": "python",
   "pygments_lexer": "ipython3",
   "version": "3.9.16"
  }
 },
 "nbformat": 4,
 "nbformat_minor": 5
}
